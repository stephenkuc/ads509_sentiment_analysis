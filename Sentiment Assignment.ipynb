{
 "cells": [
  {
   "cell_type": "markdown",
   "id": "7f79baf9",
   "metadata": {},
   "source": [
    "# ADS 509 Sentiment Assignment\n",
    "## Stephen Kuc\n",
    "\n",
    "This notebook holds the Sentiment Assignment for Module 6 in ADS 509, Applied Text Mining. Work through this notebook, writing code and answering questions where required. \n",
    "\n",
    "In a previous assignment you put together Twitter data and lyrics data on two artists. In this assignment we apply sentiment analysis to those data sets. If, for some reason, you did not complete that previous assignment, data to use for this assignment can be found in the assignment materials section of Blackboard. \n"
   ]
  },
  {
   "cell_type": "markdown",
   "id": "aae8e2e1",
   "metadata": {},
   "source": [
    "## General Assignment Instructions\n",
    "\n",
    "These instructions are included in every assignment, to remind you of the coding standards for the class. Feel free to delete this cell after reading it. \n",
    "\n",
    "One sign of mature code is conforming to a style guide. We recommend the [Google Python Style Guide](https://google.github.io/styleguide/pyguide.html). If you use a different style guide, please include a cell with a link. \n",
    "\n",
    "Your code should be relatively easy-to-read, sensibly commented, and clean. Writing code is a messy process, so please be sure to edit your final submission. Remove any cells that are not needed or parts of cells that contain unnecessary code. Remove inessential `import` statements and make sure that all such statements are moved into the designated cell. \n",
    "\n",
    "Make use of non-code cells for written commentary. These cells should be grammatical and clearly written. In some of these cells you will have questions to answer. The questions will be marked by a \"Q:\" and will have a corresponding \"A:\" spot for you. *Make sure to answer every question marked with a `Q:` for full credit.* \n"
   ]
  },
  {
   "cell_type": "code",
   "execution_count": 179,
   "id": "e2d096b7",
   "metadata": {},
   "outputs": [],
   "source": [
    "import os\n",
    "import re\n",
    "import emoji\n",
    "import pandas as pd\n",
    "import numpy as np\n",
    "\n",
    "from sklearn import preprocessing\n",
    "\n",
    "from collections import Counter, defaultdict\n",
    "from string import punctuation\n",
    "\n",
    "from nltk.corpus import stopwords\n",
    "\n",
    "\n",
    "sw = stopwords.words(\"english\")"
   ]
  },
  {
   "cell_type": "code",
   "execution_count": 221,
   "id": "6b555ab2",
   "metadata": {},
   "outputs": [],
   "source": [
    "# Add any additional import statements you need here\n",
    "\n",
    "import nltk\n",
    "from nltk.tokenize import word_tokenize\n",
    "\n",
    "import seaborn as sns\n"
   ]
  },
  {
   "cell_type": "code",
   "execution_count": 3,
   "id": "923b5a86",
   "metadata": {},
   "outputs": [],
   "source": [
    "# change `data_location` to the location of the folder on your machine.\n",
    "data_location = \"/Users/steph/OneDrive/Documents/USD/ADS509/Mod2/\"\n",
    "data_location_mine = \"/Users/steph/OneDrive/Documents/GitHub/ads509-api-scrape/\" \n",
    "\n",
    "# Going to utilize the sample data provided for this \n",
    "\n",
    "twitter_folder = \"twitter/\"\n",
    "lyrics_folder = \"lyrics/\"\n",
    "\n",
    "positive_words_file = \"positive-words.txt\"\n",
    "negative_words_file = \"negative-words.txt\"\n",
    "tidy_text_file = \"tidytext_sentiments.txt\""
   ]
  },
  {
   "cell_type": "markdown",
   "id": "9d3bf93e",
   "metadata": {},
   "source": [
    "## Data Input\n",
    "\n",
    "Now read in each of the corpora. For the lyrics data, it may be convenient to store the entire contents of the file to make it easier to inspect the titles individually, as you'll do in the last part of the assignment. In the solution, I stored the lyrics data in a dictionary with two dimensions of keys: artist and song. The value was the file contents. A Pandas data frame would work equally well. \n",
    "\n",
    "For the Twitter data, we only need the description field for this assignment. Feel free all the descriptions read it into a data structure. In the solution, I stored the descriptions as a dictionary of lists, with the key being the artist. \n",
    "\n",
    "\n"
   ]
  },
  {
   "cell_type": "code",
   "execution_count": 4,
   "id": "37d70801",
   "metadata": {},
   "outputs": [],
   "source": [
    "# Read in the lyrics data\n",
    "\n",
    "# this for Tom Petty and FT data\n",
    "\n",
    "lyric_path_ft = data_location_mine + lyrics_folder\n",
    "\n",
    "lyric_dict_ft = {\"artist\": [], \"song_name\": [], \"lyrics\": []}\n",
    "\n",
    "for artist_folder in os.listdir(lyric_path_ft):\n",
    "    artist_path = lyric_path_ft + artist_folder\n",
    "    for file in os.listdir(artist_path):\n",
    "        if file.endswith(\".txt\"):\n",
    "            file_path = f\"{artist_path}/{file}\"\n",
    "            with open(file_path, 'r') as f:\n",
    "                lyrics = f.read()\n",
    "                song_name = file.split(\"_\")[1].split(\".\")[0] # take just song title from file name\n",
    "                \n",
    "                # adding data to dictionary\n",
    "                lyric_dict_ft['artist'].append(artist_folder)\n",
    "                lyric_dict_ft['song_name'].append(song_name)\n",
    "                lyric_dict_ft['lyrics'].append(lyrics)\n"
   ]
  },
  {
   "cell_type": "code",
   "execution_count": 5,
   "id": "debcac5a",
   "metadata": {},
   "outputs": [],
   "source": [
    "# Read in the twitter data\n",
    "# just for cher and robyn\n",
    "\n",
    "\n",
    "twit_path = data_location + twitter_folder\n",
    "\n",
    "twit_dict_cr = {\"artist\": [], \"description\": []}\n",
    "\n",
    "for file in os.listdir(twit_path):\n",
    "    if file.endswith('_data.txt'):\n",
    "        # saving artist name from folder name\n",
    "        artist = file.split('_')[0]\n",
    "        \n",
    "        # saving follower_path\n",
    "        file_path = twit_path + file\n",
    "        with open(file_path, 'r', encoding = \"utf8\") as f:\n",
    "            for line in f:\n",
    "                fields = line.strip().split(\"\\t\")\n",
    "                description = fields[-1] # description should be last field based on last assignment instrs.\n",
    "    \n",
    "                # adding data to dictionary\n",
    "                twit_dict_cr['artist'].append(artist)\n",
    "                twit_dict_cr['description'].append(description)"
   ]
  },
  {
   "cell_type": "code",
   "execution_count": 145,
   "id": "af9e7a4b",
   "metadata": {},
   "outputs": [],
   "source": [
    "# Read in the positive and negative words and the\n",
    "# tidytext sentiment. Store these so that the positive\n",
    "# words are associated with a score of +1 and negative words\n",
    "# are associated with a score of -1. You can use a dataframe or a \n",
    "# dictionary for this.\n",
    "\n",
    "# positive words\n",
    "\n",
    "with open(\"positive-words.txt\", \"r\", encoding = \"utf-8\") as pos:\n",
    "    pos_lines = pos.readlines()\n",
    "\n",
    "# negative words\n",
    "\n",
    "with open(\"negative-words.txt\", \"r\") as neg:\n",
    "    neg_lines = neg.readlines()\n",
    "    \n",
    "# utilizing blueprint code from text book\n",
    "\n",
    "pos_score = 1\n",
    "neg_score = -1\n",
    "word_dict = {}\n",
    "\n",
    "\n",
    "for word in pos_lines:\n",
    "    word = word.rstrip('\\n') # cleaning data first few lines\n",
    "    if len(word.split(\" \")) > 1:\n",
    "        pass\n",
    "    elif word in [\";\", \"\"]:\n",
    "        pass\n",
    "    else:\n",
    "        word_dict[word] = pos_score\n",
    "\n",
    "for word in neg_lines:\n",
    "    word = word.rstrip('\\n') # cleaning data first few lines\n",
    "    if len(word.split(\" \")) > 1:\n",
    "        pass\n",
    "    elif word in [\";\", \"\"]:\n",
    "        pass\n",
    "    else:\n",
    "        word_dict[word] = neg_score"
   ]
  },
  {
   "cell_type": "code",
   "execution_count": 209,
   "id": "a6978575",
   "metadata": {},
   "outputs": [],
   "source": [
    "lyrics_df = pd.DataFrame.from_dict(lyric_dict_ft)\n",
    "\n",
    "lyrics_df['lyrics']= lyrics_df['lyrics'].astype(str)\n",
    "\n",
    "# cleaning data from last assignment\n",
    "lyrics_df['lyrics'] = [re.sub(\"u2019\", \"'\", s) for s in lyrics_df['lyrics']]\n",
    "lyrics_df['lyrics'] = [re.sub(\"u2013\", \" \", s) for s in lyrics_df['lyrics']]\n",
    "lyrics_df['lyrics'] = [re.sub(\"[^\\w\\s]\", \"\", s) for s in lyrics_df['lyrics']]"
   ]
  },
  {
   "cell_type": "markdown",
   "id": "6a5f3b12",
   "metadata": {},
   "source": [
    "## Sentiment Analysis on Songs\n",
    "\n",
    "In this section, score the sentiment for all the songs for both artists in your data set. Score the sentiment by manually calculating the sentiment using the combined lexicons provided in this repository. \n",
    "\n",
    "After you have calculated these sentiments, answer the questions at the end of this section.\n"
   ]
  },
  {
   "cell_type": "code",
   "execution_count": 170,
   "id": "664f8d8f",
   "metadata": {},
   "outputs": [],
   "source": [
    "# creating function for sentiment score\n",
    "\n",
    "def sentiment_score(text):\n",
    "    s_score = 0\n",
    "    lower = text.lower()\n",
    "    bag = word_tokenize(lower)\n",
    "    for w in bag:\n",
    "        if w in word_dict:\n",
    "            s_score += word_dict[word]\n",
    "    return s_score / len(bag)\n"
   ]
  },
  {
   "cell_type": "code",
   "execution_count": 211,
   "id": "7c2fd154",
   "metadata": {},
   "outputs": [],
   "source": [
    "lyrics_df['sentiment_score'] = lyrics_df['lyrics'].apply(sentiment_score)"
   ]
  },
  {
   "cell_type": "code",
   "execution_count": 212,
   "id": "eec7ef2b",
   "metadata": {},
   "outputs": [
    {
     "data": {
      "text/html": [
       "<div>\n",
       "<style scoped>\n",
       "    .dataframe tbody tr th:only-of-type {\n",
       "        vertical-align: middle;\n",
       "    }\n",
       "\n",
       "    .dataframe tbody tr th {\n",
       "        vertical-align: top;\n",
       "    }\n",
       "\n",
       "    .dataframe thead th {\n",
       "        text-align: right;\n",
       "    }\n",
       "</style>\n",
       "<table border=\"1\" class=\"dataframe\">\n",
       "  <thead>\n",
       "    <tr style=\"text-align: right;\">\n",
       "      <th></th>\n",
       "      <th>artist</th>\n",
       "      <th>song_name</th>\n",
       "      <th>sentiment_score</th>\n",
       "    </tr>\n",
       "  </thead>\n",
       "  <tbody>\n",
       "    <tr>\n",
       "      <th>19</th>\n",
       "      <td>frankturner</td>\n",
       "      <td>wisdomteeth</td>\n",
       "      <td>-0.084848</td>\n",
       "    </tr>\n",
       "    <tr>\n",
       "      <th>3</th>\n",
       "      <td>frankturner</td>\n",
       "      <td>fathersday</td>\n",
       "      <td>-0.076023</td>\n",
       "    </tr>\n",
       "    <tr>\n",
       "      <th>9</th>\n",
       "      <td>frankturner</td>\n",
       "      <td>oncewewereanarchists</td>\n",
       "      <td>-0.095238</td>\n",
       "    </tr>\n",
       "    <tr>\n",
       "      <th>25</th>\n",
       "      <td>tompetty</td>\n",
       "      <td>fooledagainidontlikeit</td>\n",
       "      <td>-0.161458</td>\n",
       "    </tr>\n",
       "    <tr>\n",
       "      <th>8</th>\n",
       "      <td>frankturner</td>\n",
       "      <td>mykingdomforahorse</td>\n",
       "      <td>-0.053254</td>\n",
       "    </tr>\n",
       "  </tbody>\n",
       "</table>\n",
       "</div>"
      ],
      "text/plain": [
       "         artist               song_name  sentiment_score\n",
       "19  frankturner             wisdomteeth        -0.084848\n",
       "3   frankturner              fathersday        -0.076023\n",
       "9   frankturner    oncewewereanarchists        -0.095238\n",
       "25     tompetty  fooledagainidontlikeit        -0.161458\n",
       "8   frankturner      mykingdomforahorse        -0.053254"
      ]
     },
     "execution_count": 212,
     "metadata": {},
     "output_type": "execute_result"
    }
   ],
   "source": [
    "lyrics_df[['artist', 'song_name', 'sentiment_score']].sample(5)"
   ]
  },
  {
   "cell_type": "code",
   "execution_count": 213,
   "id": "0138dfda",
   "metadata": {},
   "outputs": [],
   "source": [
    "# like in the book, let's scale the scores to be between -1 and 1\n",
    "\n",
    "lyrics_df['sentiment_score_scaled'] = preprocessing.scale(lyrics_df['sentiment_score'])"
   ]
  },
  {
   "cell_type": "code",
   "execution_count": 214,
   "id": "ea91cb5f",
   "metadata": {},
   "outputs": [
    {
     "data": {
      "text/html": [
       "<div>\n",
       "<style scoped>\n",
       "    .dataframe tbody tr th:only-of-type {\n",
       "        vertical-align: middle;\n",
       "    }\n",
       "\n",
       "    .dataframe tbody tr th {\n",
       "        vertical-align: top;\n",
       "    }\n",
       "\n",
       "    .dataframe thead th {\n",
       "        text-align: right;\n",
       "    }\n",
       "</style>\n",
       "<table border=\"1\" class=\"dataframe\">\n",
       "  <thead>\n",
       "    <tr style=\"text-align: right;\">\n",
       "      <th></th>\n",
       "      <th>sentiment_score_scaled</th>\n",
       "    </tr>\n",
       "    <tr>\n",
       "      <th>artist</th>\n",
       "      <th></th>\n",
       "    </tr>\n",
       "  </thead>\n",
       "  <tbody>\n",
       "    <tr>\n",
       "      <th>frankturner</th>\n",
       "      <td>0.116708</td>\n",
       "    </tr>\n",
       "    <tr>\n",
       "      <th>tompetty</th>\n",
       "      <td>-0.116708</td>\n",
       "    </tr>\n",
       "  </tbody>\n",
       "</table>\n",
       "</div>"
      ],
      "text/plain": [
       "             sentiment_score_scaled\n",
       "artist                             \n",
       "frankturner                0.116708\n",
       "tompetty                  -0.116708"
      ]
     },
     "execution_count": 214,
     "metadata": {},
     "output_type": "execute_result"
    }
   ],
   "source": [
    "# now to group by artist and see the higher scores\n",
    "\n",
    "lyrics_df.groupby('artist').agg({'sentiment_score_scaled': 'mean'})"
   ]
  },
  {
   "cell_type": "code",
   "execution_count": 217,
   "id": "dc6bfd5f",
   "metadata": {},
   "outputs": [
    {
     "data": {
      "text/html": [
       "<div>\n",
       "<style scoped>\n",
       "    .dataframe tbody tr th:only-of-type {\n",
       "        vertical-align: middle;\n",
       "    }\n",
       "\n",
       "    .dataframe tbody tr th {\n",
       "        vertical-align: top;\n",
       "    }\n",
       "\n",
       "    .dataframe thead th {\n",
       "        text-align: right;\n",
       "    }\n",
       "</style>\n",
       "<table border=\"1\" class=\"dataframe\">\n",
       "  <thead>\n",
       "    <tr style=\"text-align: right;\">\n",
       "      <th></th>\n",
       "      <th>artist</th>\n",
       "      <th>song_name</th>\n",
       "      <th>lyrics</th>\n",
       "      <th>sentiment_score</th>\n",
       "      <th>sentiment_score_scaled</th>\n",
       "    </tr>\n",
       "  </thead>\n",
       "  <tbody>\n",
       "    <tr>\n",
       "      <th>6</th>\n",
       "      <td>frankturner</td>\n",
       "      <td>loveiresong</td>\n",
       "      <td>Frank Turner  Love Ire  Song Lyrics  AZLyricscom nn Well a teacher of mine once told me That life was just a list of disappointments and defeats And you could only do your best And I said Well thats a fucking copout youre just washed up and youre tired And when I get to your age well I wont be such a coward But these days I sit at home known to shout at my TV And Punk Rock didnt live up to what Id hoped that it could be And all the things that I believed with all my heart when I was young Are just coasters for beers and clean surfaces for drugs And I packed all my pamphlets with my bibles at the back of the shelf Well it was bad enough the feeling and the first time it hit When you realised your parents had let the world all go to shit And that the values and ideals for which many had fought and died Had been killed off in the committees and left to die by the wayside But it was worse when we turned to the kids on the left And got let down again by some poor excuse for protest Yeah by idiot fucking hippies in 50 different factions Who are locked inside some kind of 60s battle reenactment And I hung up my banner in disgust and I head for the door Oh but once we were young and we were crass enough to care But I guess you live and learn we wont make that mistake again no Oh but surely just for one day we could fight and we could win And if only for a little while we could insist on the impossible Well weve been a good few hours drinking So Im going to say what everyones thinking If were stuck on this ship and its sinking Then we might as well have a parade Cause if its still going to hurt in the morning And a better plans yet to get forming Then wheres the harm spending an evening In manning the old barricades So come on old friends to the streets Lets be 1905 but not 1917 Lets be heroes lets be martyrs lets be radical thinkers Who never have to test drive the least of their dreams Lets divide up the world into the damned and the saved And then ride to the valley like the old light brigade And straighten our backs and we wont be afraid And theyll celebrate our deaths with a national parade So come on lets be young lets be crass enough to care Lets refuse to live and learn lets make all our mistakes again yes And then darling just for one day yeah we can fight and we can win And if only for a little while we could insist on the impossible Leave the mourning to the morning Yeah pain can be killed With aspirin tablets and vitamin pills But memories of hope and of glorious defeat Are a little bit harder to beat</td>\n",
       "      <td>-0.112403</td>\n",
       "      <td>-0.867186</td>\n",
       "    </tr>\n",
       "    <tr>\n",
       "      <th>7</th>\n",
       "      <td>frankturner</td>\n",
       "      <td>musttryharder</td>\n",
       "      <td>Frank Turner  Must Try Harder Lyrics  AZLyricscom nn Mother loves me still despite My failing health and lack of drive Shame on me I could be so much better than I am Songs unfinished post unopened Clothes unwashed and vows now broken Shame on me I could be so much better than I am If I could just relax then I could admit That I dont know what I want but this is not it If I could just recall the dreams I had as a kid If I could just relax if I could let my guard slip Id be such a winner</td>\n",
       "      <td>-0.096154</td>\n",
       "      <td>-0.462273</td>\n",
       "    </tr>\n",
       "    <tr>\n",
       "      <th>9</th>\n",
       "      <td>frankturner</td>\n",
       "      <td>oncewewereanarchists</td>\n",
       "      <td>Frank Turner  Once We Were Anarchists Lyrics  AZLyricscom nn The demonstrations got boring   Well it was obvious that the government was ignoring us Its hard to drag yourself through empty streets On an empty stomach and no sleep The shortcomings got clearer As the price we paid got dearer and dearer Its supposed to be a case of give and take   Well I was feeling the give and making a mistake And Ive heard it said that the unexamined life Isnt much worth living and Im sure theyre right But its hard to keep on fighting the good fight When no one else seems bothered yeah When no ones on your side Ive got friends who are bankers And its an easy rhyme to call them wankers But I must say I envy the way that they live In a style thats all take and no give While Im playing the Lone Ranger Riding to the rescue of six billion strangers Armed with only unoriginal songs And a sense that somethings wrong And I must admit that Im tired of saying u201cnou201d all the time But I must admit that I dont really know what would be right And if politics is helping all the people then my political career is pretty fucked Because the truth is I dont like people all that much The times they arent achanging   Yeah Englands still shit and its still raining And everybodys jaded and tired and bored And no one lifts a finger because Its just not in our culture Our culture is carrion and were all vultures And no one seems bothered by this state of play   It seems that the stench is with us to stay So I had a go I tried examining life It wasnt much worth living   I guess theyre right And Im tired of fighting a fight thats not my fight But so is everybody else   were all on the same side Im young enough to be all pissed off But Im old enough to be jaded Im of the age where I want things to change But with age my hopes have faded Im young and bored of being young and bored   If I was old I could say Id seen it all before In short Im tired and in short Im probably fired If the revolution doesnt want me I dont give a shit</td>\n",
       "      <td>-0.095238</td>\n",
       "      <td>-0.439453</td>\n",
       "    </tr>\n",
       "  </tbody>\n",
       "</table>\n",
       "</div>"
      ],
      "text/plain": [
       "        artist             song_name  \\\n",
       "6  frankturner           loveiresong   \n",
       "7  frankturner         musttryharder   \n",
       "9  frankturner  oncewewereanarchists   \n",
       "\n",
       "                                                                                                                                                                                                                                                                                                                                                                                                                                                                                                                                                                                                                                                                                                                                                                                                                                                                                                                                                                                                                                                                                                                                                                                                                                                                                                                                                                                                                                                                                                                                                                                                                                                                                                                                                                                                                                                                                                                                                                                                                                                                                                                                                                                                                                                                                                                                                                                                                                                                                                                                                                                                                                                  lyrics  \\\n",
       "6  Frank Turner  Love Ire  Song Lyrics  AZLyricscom nn Well a teacher of mine once told me That life was just a list of disappointments and defeats And you could only do your best And I said Well thats a fucking copout youre just washed up and youre tired And when I get to your age well I wont be such a coward But these days I sit at home known to shout at my TV And Punk Rock didnt live up to what Id hoped that it could be And all the things that I believed with all my heart when I was young Are just coasters for beers and clean surfaces for drugs And I packed all my pamphlets with my bibles at the back of the shelf Well it was bad enough the feeling and the first time it hit When you realised your parents had let the world all go to shit And that the values and ideals for which many had fought and died Had been killed off in the committees and left to die by the wayside But it was worse when we turned to the kids on the left And got let down again by some poor excuse for protest Yeah by idiot fucking hippies in 50 different factions Who are locked inside some kind of 60s battle reenactment And I hung up my banner in disgust and I head for the door Oh but once we were young and we were crass enough to care But I guess you live and learn we wont make that mistake again no Oh but surely just for one day we could fight and we could win And if only for a little while we could insist on the impossible Well weve been a good few hours drinking So Im going to say what everyones thinking If were stuck on this ship and its sinking Then we might as well have a parade Cause if its still going to hurt in the morning And a better plans yet to get forming Then wheres the harm spending an evening In manning the old barricades So come on old friends to the streets Lets be 1905 but not 1917 Lets be heroes lets be martyrs lets be radical thinkers Who never have to test drive the least of their dreams Lets divide up the world into the damned and the saved And then ride to the valley like the old light brigade And straighten our backs and we wont be afraid And theyll celebrate our deaths with a national parade So come on lets be young lets be crass enough to care Lets refuse to live and learn lets make all our mistakes again yes And then darling just for one day yeah we can fight and we can win And if only for a little while we could insist on the impossible Leave the mourning to the morning Yeah pain can be killed With aspirin tablets and vitamin pills But memories of hope and of glorious defeat Are a little bit harder to beat   \n",
       "7                                                                                                                                                                                                                                                                                                                                                                                                                                                                                                                                                                                                                                                                                                                                                                                                                                                                                                                                                                                                                                                                                                                                                                                                                                                                                                                                                                                                                                                                                                                                                                                                                                                                                                                                                                                                                                                                                                                                                                                                                                                                                                                                            Frank Turner  Must Try Harder Lyrics  AZLyricscom nn Mother loves me still despite My failing health and lack of drive Shame on me I could be so much better than I am Songs unfinished post unopened Clothes unwashed and vows now broken Shame on me I could be so much better than I am If I could just relax then I could admit That I dont know what I want but this is not it If I could just recall the dreams I had as a kid If I could just relax if I could let my guard slip Id be such a winner   \n",
       "9                                                                                                                                                                                                                                                                                                                                                                                                                                                                                                                                                Frank Turner  Once We Were Anarchists Lyrics  AZLyricscom nn The demonstrations got boring   Well it was obvious that the government was ignoring us Its hard to drag yourself through empty streets On an empty stomach and no sleep The shortcomings got clearer As the price we paid got dearer and dearer Its supposed to be a case of give and take   Well I was feeling the give and making a mistake And Ive heard it said that the unexamined life Isnt much worth living and Im sure theyre right But its hard to keep on fighting the good fight When no one else seems bothered yeah When no ones on your side Ive got friends who are bankers And its an easy rhyme to call them wankers But I must say I envy the way that they live In a style thats all take and no give While Im playing the Lone Ranger Riding to the rescue of six billion strangers Armed with only unoriginal songs And a sense that somethings wrong And I must admit that Im tired of saying u201cnou201d all the time But I must admit that I dont really know what would be right And if politics is helping all the people then my political career is pretty fucked Because the truth is I dont like people all that much The times they arent achanging   Yeah Englands still shit and its still raining And everybodys jaded and tired and bored And no one lifts a finger because Its just not in our culture Our culture is carrion and were all vultures And no one seems bothered by this state of play   It seems that the stench is with us to stay So I had a go I tried examining life It wasnt much worth living   I guess theyre right And Im tired of fighting a fight thats not my fight But so is everybody else   were all on the same side Im young enough to be all pissed off But Im old enough to be jaded Im of the age where I want things to change But with age my hopes have faded Im young and bored of being young and bored   If I was old I could say Id seen it all before In short Im tired and in short Im probably fired If the revolution doesnt want me I dont give a shit   \n",
       "\n",
       "   sentiment_score  sentiment_score_scaled  \n",
       "6        -0.112403               -0.867186  \n",
       "7        -0.096154               -0.462273  \n",
       "9        -0.095238               -0.439453  "
      ]
     },
     "metadata": {},
     "output_type": "display_data"
    },
    {
     "data": {
      "text/html": [
       "<div>\n",
       "<style scoped>\n",
       "    .dataframe tbody tr th:only-of-type {\n",
       "        vertical-align: middle;\n",
       "    }\n",
       "\n",
       "    .dataframe tbody tr th {\n",
       "        vertical-align: top;\n",
       "    }\n",
       "\n",
       "    .dataframe thead th {\n",
       "        text-align: right;\n",
       "    }\n",
       "</style>\n",
       "<table border=\"1\" class=\"dataframe\">\n",
       "  <thead>\n",
       "    <tr style=\"text-align: right;\">\n",
       "      <th></th>\n",
       "      <th>artist</th>\n",
       "      <th>song_name</th>\n",
       "      <th>lyrics</th>\n",
       "      <th>sentiment_score</th>\n",
       "      <th>sentiment_score_scaled</th>\n",
       "    </tr>\n",
       "  </thead>\n",
       "  <tbody>\n",
       "    <tr>\n",
       "      <th>10</th>\n",
       "      <td>frankturner</td>\n",
       "      <td>photosynthesis</td>\n",
       "      <td>Frank Turner  Photosynthesis Lyrics  AZLyricscom nn 12123 Well I guess I should confess that I am starting to get old All the latest music fads all passed me by and left me cold All the kids are talking slang I wont pretend to understand All my friends are getting married mortgages and pension plans And its obvious my angry adolescent days are done And Im happy and Im settled in the person Ive become But that doesnt mean Im settled up and sitting out the game Time may change a lot but some things may stay the same And I wont sit down And I wont shut up And most of all I will not grow up And I wont sit down And I wont shut up And most of all I yeah I wont grow up Oh maturitys a wrapped up package deal so it seems And ditching teenage fantasy means ditching all your dreams All your friends and peers and family solemnly tell you you will Have to grow up be an adult yeah be bored and unfulfilled Oh when no ones yet explained to me exactly whats so great About slaving 50 years away on something that you hate about meekly shuffling down the path of mediocrity Well if thats your road then take it but its not the road for me And I wont sit down And I wont shut up And most of all I will not grow up And I wont sit down And I wont shut up And most of all I yeah I wont grow up And I wont sit down And I wont shut up And most of all I will not grow up And if all you ever do with your life Is photosynthesize Then you deserve every hour of these sleepless nights That you waste wondering when youre gonna die Now Ill play and you sing The perfect way for the evening to begin Now Ill play and you sing The perfect way for the evening to begin And I wont sit down And I wont shut up And most of all yeah I wont grow up And I wont sit down And I wont shut up And most of all I will not grow up And I wont sit down And I wont shut up And most of all I will not grow up</td>\n",
       "      <td>-0.040302</td>\n",
       "      <td>0.929488</td>\n",
       "    </tr>\n",
       "    <tr>\n",
       "      <th>0</th>\n",
       "      <td>frankturner</td>\n",
       "      <td>adecentcupoftea</td>\n",
       "      <td>Frank Turner  A Decent Cup Of Tea Lyrics  AZLyricscom nn It hadnt been a day when everything had turned out right   She called me up and asked me to come over in the night To make her cups of tea and listen quietly as she starts To list the latest list of bastards who have trampled on her heart I see her in the nightclubs I see her in the bars At rooftop afterparties or crammed into friends cars And we talk about the weather and how she drowns her pain in drink And I nod and never ever dare to tell her what I think She summers by my seas But winters without me And she cries into her tea That shes secretly lonely And oh me what am I to do Its obvious to me But she never seems to see That its not about the days when everything has turned out right No its more about the moments when she calls me in the night To make her cups of tea and wash the weary worries from her head And then to draw the pain out slowly as I put her into bed And I slip this information Into all our conversations But she never seems to listen And she never seems to see</td>\n",
       "      <td>-0.046083</td>\n",
       "      <td>0.785440</td>\n",
       "    </tr>\n",
       "    <tr>\n",
       "      <th>15</th>\n",
       "      <td>frankturner</td>\n",
       "      <td>theladiesoflondontown</td>\n",
       "      <td>Frank Turner  The Ladies Of London Town Lyrics  AZLyricscom nn Theres so many beautiful girls in here tonight I can hardly stand it Where do they go during the day Who the hell do they go home with at the end of the night I dont understand it They never go home with me You dance as if youre hours away from death Youre wearing too much makeup and showing too much flesh And you smile a smile to take away my breath Because tonight and only tonight you know youre the best The ladies of London town Go flowing through these streets like water Running little streams down to the river They wash the dirty ground they sweep me off my feet But like an English summer theyll soon be gone forever Ive seen you trawling Camden at 4am Outside of the clubnight Deciding whose house will hold a freeforall Ive followed you back to mansions and Ive met all your friends Under the streetlights But I can never recall what youre called You dance you sweat Your glance is met And you hold my gaze a bit And pretend you never did And Im left standing on my own The ladies of London town throw one last glance over their shoulders Blow a kiss and then theyre gone forever</td>\n",
       "      <td>-0.049774</td>\n",
       "      <td>0.693469</td>\n",
       "    </tr>\n",
       "  </tbody>\n",
       "</table>\n",
       "</div>"
      ],
      "text/plain": [
       "         artist              song_name  \\\n",
       "10  frankturner         photosynthesis   \n",
       "0   frankturner        adecentcupoftea   \n",
       "15  frankturner  theladiesoflondontown   \n",
       "\n",
       "                                                                                                                                                                                                                                                                                                                                                                                                                                                                                                                                                                                                                                                                                                                                                                                                                                                                                                                                                                                                                                                                                                                                                                                                                                                                                                                                                                                                                                                                                                                                                                                                                                                                                                                                                                                                                                                                                                                                               lyrics  \\\n",
       "10  Frank Turner  Photosynthesis Lyrics  AZLyricscom nn 12123 Well I guess I should confess that I am starting to get old All the latest music fads all passed me by and left me cold All the kids are talking slang I wont pretend to understand All my friends are getting married mortgages and pension plans And its obvious my angry adolescent days are done And Im happy and Im settled in the person Ive become But that doesnt mean Im settled up and sitting out the game Time may change a lot but some things may stay the same And I wont sit down And I wont shut up And most of all I will not grow up And I wont sit down And I wont shut up And most of all I yeah I wont grow up Oh maturitys a wrapped up package deal so it seems And ditching teenage fantasy means ditching all your dreams All your friends and peers and family solemnly tell you you will Have to grow up be an adult yeah be bored and unfulfilled Oh when no ones yet explained to me exactly whats so great About slaving 50 years away on something that you hate about meekly shuffling down the path of mediocrity Well if thats your road then take it but its not the road for me And I wont sit down And I wont shut up And most of all I will not grow up And I wont sit down And I wont shut up And most of all I yeah I wont grow up And I wont sit down And I wont shut up And most of all I will not grow up And if all you ever do with your life Is photosynthesize Then you deserve every hour of these sleepless nights That you waste wondering when youre gonna die Now Ill play and you sing The perfect way for the evening to begin Now Ill play and you sing The perfect way for the evening to begin And I wont sit down And I wont shut up And most of all yeah I wont grow up And I wont sit down And I wont shut up And most of all I will not grow up And I wont sit down And I wont shut up And most of all I will not grow up   \n",
       "0                                                                                                                                                                                                                                                                                                                                                                                                                                                                                                                                                                                                                                                                                                                                                                                                                                                        Frank Turner  A Decent Cup Of Tea Lyrics  AZLyricscom nn It hadnt been a day when everything had turned out right   She called me up and asked me to come over in the night To make her cups of tea and listen quietly as she starts To list the latest list of bastards who have trampled on her heart I see her in the nightclubs I see her in the bars At rooftop afterparties or crammed into friends cars And we talk about the weather and how she drowns her pain in drink And I nod and never ever dare to tell her what I think She summers by my seas But winters without me And she cries into her tea That shes secretly lonely And oh me what am I to do Its obvious to me But she never seems to see That its not about the days when everything has turned out right No its more about the moments when she calls me in the night To make her cups of tea and wash the weary worries from her head And then to draw the pain out slowly as I put her into bed And I slip this information Into all our conversations But she never seems to listen And she never seems to see   \n",
       "15                                                                                                                                                                                                                                                                                                                                                                                                                                                                                                                                                                                                                                                                                                                                               Frank Turner  The Ladies Of London Town Lyrics  AZLyricscom nn Theres so many beautiful girls in here tonight I can hardly stand it Where do they go during the day Who the hell do they go home with at the end of the night I dont understand it They never go home with me You dance as if youre hours away from death Youre wearing too much makeup and showing too much flesh And you smile a smile to take away my breath Because tonight and only tonight you know youre the best The ladies of London town Go flowing through these streets like water Running little streams down to the river They wash the dirty ground they sweep me off my feet But like an English summer theyll soon be gone forever Ive seen you trawling Camden at 4am Outside of the clubnight Deciding whose house will hold a freeforall Ive followed you back to mansions and Ive met all your friends Under the streetlights But I can never recall what youre called You dance you sweat Your glance is met And you hold my gaze a bit And pretend you never did And Im left standing on my own The ladies of London town throw one last glance over their shoulders Blow a kiss and then theyre gone forever   \n",
       "\n",
       "    sentiment_score  sentiment_score_scaled  \n",
       "10        -0.040302                0.929488  \n",
       "0         -0.046083                0.785440  \n",
       "15        -0.049774                0.693469  "
      ]
     },
     "metadata": {},
     "output_type": "display_data"
    }
   ],
   "source": [
    "# finding songs with bottom 3 sentiment score\n",
    "\n",
    "# allowing it to show all lyrics\n",
    "pd.set_option('display.max_colwidth', None)\n",
    "\n",
    "ft_bot3 = lyrics_df[lyrics_df['artist'] == \"frankturner\"].sort_values(\"sentiment_score\").head(3)\n",
    "tp_bot3 = lyrics_df[lyrics_df['artist'] == \"tompetty\"].sort_values(\"sentiment_score\").head(3)\n",
    "\n",
    "# finding songs with top 3 sentiment score\n",
    "\n",
    "ft_top3 = lyrics_df[lyrics_df['artist'] == \"frankturner\"].sort_values(\"sentiment_score\", ascending = False).head(3)\n",
    "tp_top3 = lyrics_df[lyrics_df['artist'] == \"tompetty\"].sort_values(\"sentiment_score\", ascending = False).head(3)\n",
    "\n",
    "\n",
    "# Displaying Frankturner's scores and lyrics\n",
    "display(ft_bot3, ft_top3)"
   ]
  },
  {
   "cell_type": "code",
   "execution_count": 219,
   "id": "0d8972c3",
   "metadata": {
    "scrolled": true
   },
   "outputs": [
    {
     "data": {
      "text/html": [
       "<div>\n",
       "<style scoped>\n",
       "    .dataframe tbody tr th:only-of-type {\n",
       "        vertical-align: middle;\n",
       "    }\n",
       "\n",
       "    .dataframe tbody tr th {\n",
       "        vertical-align: top;\n",
       "    }\n",
       "\n",
       "    .dataframe thead th {\n",
       "        text-align: right;\n",
       "    }\n",
       "</style>\n",
       "<table border=\"1\" class=\"dataframe\">\n",
       "  <thead>\n",
       "    <tr style=\"text-align: right;\">\n",
       "      <th></th>\n",
       "      <th>artist</th>\n",
       "      <th>song_name</th>\n",
       "      <th>lyrics</th>\n",
       "      <th>sentiment_score</th>\n",
       "      <th>sentiment_score_scaled</th>\n",
       "    </tr>\n",
       "  </thead>\n",
       "  <tbody>\n",
       "    <tr>\n",
       "      <th>28</th>\n",
       "      <td>tompetty</td>\n",
       "      <td>ineedtoknow</td>\n",
       "      <td>Tom Petty And The Heartbreakers  I Need To Know Lyrics  AZLyricscom nn Well the talk on the street says you might go solo Good friend of mine saw you leavin by your back door I need to know I need to know I need to know I need to know If you think youre gonna leave then you better say so I need to know I need to know I need to know I need to know Because I dont know how long I can hold on If youre making me wait if youre leadin me on I need to know I need to know I need to know I need to know Who wouldve thought that youd fall for his line All of a sudden its me on the outside I need to know I need to know I need to know I need to know If you think youre gonna leave then you better say so I need to know I need to know I need to know I need to know Because I dont know how long I can hold on If youre making me wait if youre leadin me on I need to know I need to know I need to know I need to know Baby I need to know I need to know I need to know I need to know If you think youre gonna leave then you better say so I need to know I need to know I need to know I need to know Because I dont know how long I can hold on If youre making me wait if youre leadin me on I need to know I need to know I need to know I need to know Baby I need to know</td>\n",
       "      <td>-0.023490</td>\n",
       "      <td>1.348433</td>\n",
       "    </tr>\n",
       "    <tr>\n",
       "      <th>36</th>\n",
       "      <td>tompetty</td>\n",
       "      <td>rockinaroundwithyou</td>\n",
       "      <td>Tom Petty And The Heartbreakers  Rockin Around With You Lyrics  AZLyricscom nn Why be lonely Why be blue You got me babe I got you And I cant stop thinkin bout you How I dig rockin around with you I was waiting You came through You knew no one else will do And I cant stop thinkin bout you How I dig rockin around with you You know I dig rockin around You know I dig rockin around You know I dig rockin around</td>\n",
       "      <td>-0.023810</td>\n",
       "      <td>1.340469</td>\n",
       "    </tr>\n",
       "    <tr>\n",
       "      <th>23</th>\n",
       "      <td>tompetty</td>\n",
       "      <td>babysarocknroller</td>\n",
       "      <td>Tom Petty And The Heartbreakers  Babys A Rock N Roller Lyrics  AZLyricscom nn My baby is a rock n roller My baby is a rock n roller Yeah thats all that she ever wants to be So why you trying to come on with this sophistication She dont wanna know about your education Man she dont care about the United Nations My babys gone on a rhythm sensation Thats all she ever wants to be My baby is a rock n roller Well she cant take them stupid friends of yours She aint going to go through all of that no more She dont wanna be no dentist assistant Man she got the rhythm and she cant resist it Thats all she ever wants to be My baby is a rock n roller My baby is a rock n roller My baby is a rock n roller My baby is a rock n roller</td>\n",
       "      <td>-0.025641</td>\n",
       "      <td>1.294830</td>\n",
       "    </tr>\n",
       "  </tbody>\n",
       "</table>\n",
       "</div>"
      ],
      "text/plain": [
       "      artist            song_name  \\\n",
       "28  tompetty          ineedtoknow   \n",
       "36  tompetty  rockinaroundwithyou   \n",
       "23  tompetty    babysarocknroller   \n",
       "\n",
       "                                                                                                                                                                                                                                                                                                                                                                                                                                                                                                                                                                                                                                                                                                                                                                                                                                                                                                                                                                                                                                                                                                                                                                                                                                                                                                    lyrics  \\\n",
       "28  Tom Petty And The Heartbreakers  I Need To Know Lyrics  AZLyricscom nn Well the talk on the street says you might go solo Good friend of mine saw you leavin by your back door I need to know I need to know I need to know I need to know If you think youre gonna leave then you better say so I need to know I need to know I need to know I need to know Because I dont know how long I can hold on If youre making me wait if youre leadin me on I need to know I need to know I need to know I need to know Who wouldve thought that youd fall for his line All of a sudden its me on the outside I need to know I need to know I need to know I need to know If you think youre gonna leave then you better say so I need to know I need to know I need to know I need to know Because I dont know how long I can hold on If youre making me wait if youre leadin me on I need to know I need to know I need to know I need to know Baby I need to know I need to know I need to know I need to know If you think youre gonna leave then you better say so I need to know I need to know I need to know I need to know Because I dont know how long I can hold on If youre making me wait if youre leadin me on I need to know I need to know I need to know I need to know Baby I need to know   \n",
       "36                                                                                                                                                                                                                                                                                                                                                                                                                                                                                                                                                                                                                                                                                                                                                                                                                                                                               Tom Petty And The Heartbreakers  Rockin Around With You Lyrics  AZLyricscom nn Why be lonely Why be blue You got me babe I got you And I cant stop thinkin bout you How I dig rockin around with you I was waiting You came through You knew no one else will do And I cant stop thinkin bout you How I dig rockin around with you You know I dig rockin around You know I dig rockin around You know I dig rockin around   \n",
       "23                                                                                                                                                                                                                                                                                                                                                                                                                                                                                                                                                   Tom Petty And The Heartbreakers  Babys A Rock N Roller Lyrics  AZLyricscom nn My baby is a rock n roller My baby is a rock n roller Yeah thats all that she ever wants to be So why you trying to come on with this sophistication She dont wanna know about your education Man she dont care about the United Nations My babys gone on a rhythm sensation Thats all she ever wants to be My baby is a rock n roller Well she cant take them stupid friends of yours She aint going to go through all of that no more She dont wanna be no dentist assistant Man she got the rhythm and she cant resist it Thats all she ever wants to be My baby is a rock n roller My baby is a rock n roller My baby is a rock n roller My baby is a rock n roller   \n",
       "\n",
       "    sentiment_score  sentiment_score_scaled  \n",
       "28        -0.023490                1.348433  \n",
       "36        -0.023810                1.340469  \n",
       "23        -0.025641                1.294830  "
      ]
     },
     "metadata": {},
     "output_type": "display_data"
    },
    {
     "data": {
      "text/html": [
       "<div>\n",
       "<style scoped>\n",
       "    .dataframe tbody tr th:only-of-type {\n",
       "        vertical-align: middle;\n",
       "    }\n",
       "\n",
       "    .dataframe tbody tr th {\n",
       "        vertical-align: top;\n",
       "    }\n",
       "\n",
       "    .dataframe thead th {\n",
       "        text-align: right;\n",
       "    }\n",
       "</style>\n",
       "<table border=\"1\" class=\"dataframe\">\n",
       "  <thead>\n",
       "    <tr style=\"text-align: right;\">\n",
       "      <th></th>\n",
       "      <th>artist</th>\n",
       "      <th>song_name</th>\n",
       "      <th>lyrics</th>\n",
       "      <th>sentiment_score</th>\n",
       "      <th>sentiment_score_scaled</th>\n",
       "    </tr>\n",
       "  </thead>\n",
       "  <tbody>\n",
       "    <tr>\n",
       "      <th>35</th>\n",
       "      <td>tompetty</td>\n",
       "      <td>restless</td>\n",
       "      <td>Tom Petty And The Heartbreakers  Restless Lyrics  AZLyricscom nn I dont need to belong to no one I dont belong at all I got my face in a corner Got my back to the wall Yeah pretty baby Im restless restless Restless through and through Im restless restless You look restless too Im a hairtrigger lover And I cant face up to nothing Im impatient with the wind But Im waiting here for something Pretty baby Im restless restless Restless through and through Im restless restless You look restless too Restless sleep twisted dreams Moving targets silent screams Restless city restless street Restless you restless me Im a face out the window Im a black satin sheet And I cant stay warm I stay out in the street Yeah pretty baby Im restless restless Restless through and through Im restless restless You look restless too</td>\n",
       "      <td>-0.227586</td>\n",
       "      <td>-3.737424</td>\n",
       "    </tr>\n",
       "    <tr>\n",
       "      <th>25</th>\n",
       "      <td>tompetty</td>\n",
       "      <td>fooledagainidontlikeit</td>\n",
       "      <td>Tom Petty And The Heartbreakers  Fooled Again I Dont Like It Lyrics  AZLyricscom nn Strange voice on the telephone Tellin me I better leave you lone Why dont somebody say whats going on Uh oh I think I been through this before Looks like Im the fool again Looks like Im the fool again I dont like it I dont like it You never said you had no number two I need to know about it if you do If two is one I might as well be three Its good to see you think so much of me Looks like Im the fool again Looks like Im the fool again I dont like it I dont like it Look out You never said you had no number two I need to know about it if you do If two is one I might as well be three Its good to see you think so much of me Looks like Im the fool again Looks like Im the fool again I dont like it I dont like it Look out I dont like it I dont like it I dont like it</td>\n",
       "      <td>-0.161458</td>\n",
       "      <td>-2.089589</td>\n",
       "    </tr>\n",
       "    <tr>\n",
       "      <th>27</th>\n",
       "      <td>tompetty</td>\n",
       "      <td>hurt</td>\n",
       "      <td>Tom Petty And The Heartbreakers  Hurt Lyrics  AZLyricscom nn I walked to the window turned out the light Looked at the city went back through the night Yeah I stood in the darkness stood all alone Thank God for California thank God Im going home Thats right you hurt me baby hurt me good Hurt me like no one else ever could Cut me down the middle face down in the dirt And we both know its too late to save it Bet you feel proud about it baby You taught me how to hurt thats right DC10 1045 Halfway to LA red in the eyes You might be the devil might just be his friend It dont make no difference you aint gettin me again Thats right you hurt me baby hurt me good Hurt me like no one else ever could Cut me down the middle face down in the dirt And we both know its too late to save it Bet you feel proud about it baby You taught me how to hurt thats right Thats right Hurt me Cut me down the middle Thats right</td>\n",
       "      <td>-0.153439</td>\n",
       "      <td>-1.889760</td>\n",
       "    </tr>\n",
       "  </tbody>\n",
       "</table>\n",
       "</div>"
      ],
      "text/plain": [
       "      artist               song_name  \\\n",
       "35  tompetty                restless   \n",
       "25  tompetty  fooledagainidontlikeit   \n",
       "27  tompetty                    hurt   \n",
       "\n",
       "                                                                                                                                                                                                                                                                                                                                                                                                                                                                                                                                                                                                                                                                                                                                                                                                                                                                                                                                            lyrics  \\\n",
       "35                                                                                                 Tom Petty And The Heartbreakers  Restless Lyrics  AZLyricscom nn I dont need to belong to no one I dont belong at all I got my face in a corner Got my back to the wall Yeah pretty baby Im restless restless Restless through and through Im restless restless You look restless too Im a hairtrigger lover And I cant face up to nothing Im impatient with the wind But Im waiting here for something Pretty baby Im restless restless Restless through and through Im restless restless You look restless too Restless sleep twisted dreams Moving targets silent screams Restless city restless street Restless you restless me Im a face out the window Im a black satin sheet And I cant stay warm I stay out in the street Yeah pretty baby Im restless restless Restless through and through Im restless restless You look restless too   \n",
       "25                                                           Tom Petty And The Heartbreakers  Fooled Again I Dont Like It Lyrics  AZLyricscom nn Strange voice on the telephone Tellin me I better leave you lone Why dont somebody say whats going on Uh oh I think I been through this before Looks like Im the fool again Looks like Im the fool again I dont like it I dont like it You never said you had no number two I need to know about it if you do If two is one I might as well be three Its good to see you think so much of me Looks like Im the fool again Looks like Im the fool again I dont like it I dont like it Look out You never said you had no number two I need to know about it if you do If two is one I might as well be three Its good to see you think so much of me Looks like Im the fool again Looks like Im the fool again I dont like it I dont like it Look out I dont like it I dont like it I dont like it   \n",
       "27  Tom Petty And The Heartbreakers  Hurt Lyrics  AZLyricscom nn I walked to the window turned out the light Looked at the city went back through the night Yeah I stood in the darkness stood all alone Thank God for California thank God Im going home Thats right you hurt me baby hurt me good Hurt me like no one else ever could Cut me down the middle face down in the dirt And we both know its too late to save it Bet you feel proud about it baby You taught me how to hurt thats right DC10 1045 Halfway to LA red in the eyes You might be the devil might just be his friend It dont make no difference you aint gettin me again Thats right you hurt me baby hurt me good Hurt me like no one else ever could Cut me down the middle face down in the dirt And we both know its too late to save it Bet you feel proud about it baby You taught me how to hurt thats right Thats right Hurt me Cut me down the middle Thats right   \n",
       "\n",
       "    sentiment_score  sentiment_score_scaled  \n",
       "35        -0.227586               -3.737424  \n",
       "25        -0.161458               -2.089589  \n",
       "27        -0.153439               -1.889760  "
      ]
     },
     "metadata": {},
     "output_type": "display_data"
    }
   ],
   "source": [
    "# displaying Tom Petty's\n",
    "\n",
    "display(tp_top3, tp_bot3)"
   ]
  },
  {
   "cell_type": "markdown",
   "id": "1f8334f4",
   "metadata": {},
   "source": [
    "### Questions\n",
    "\n",
    "#### Q: Overall, which artist has the higher average sentiment per song? \n",
    "\n",
    "A: For these first 20 songs of each artist's career, Frank Turner has a slightly higher average sentiment per songs than Tom Petty. Honestly, it's pretty interesting that Frank's are more positive, where I would think he is slightly more negative, especially in his earlier days. There's also a chance that since Tom uses more frequent words, that his words fell more into the overall lexicon than Franks, and were then scored more often.\n",
    "\n",
    "---\n",
    "\n",
    "### Q: For your first artist, what are the three songs that have the highest and lowest sentiments? Print the lyrics of those songs to the screen. What do you think is driving the sentiment score? \n",
    "\n",
    "(Code and printed lyrics are above)\n",
    "\n",
    "A: Frank Turner:\n",
    "    \n",
    "   3 highest: \"Photosynthesis\", \"A Decent Cup of Tea\", and \"The Ladies of London Town\"\n",
    "   \n",
    "   3 Lowest: \"Love, Ire and Song\", \"Must Try Harder\", and \"Once we were Anarchists.\"\n",
    "   \n",
    "\n",
    "Knowing these songs, Photosynthesis makes sense to be one of the more positive songs. Althouogh, when looking at the lyrics, there are mentions of death, wasted time, sleepless nights, and others; but it does have a tinge of positive with words like marriage, friends, family, dreams, and negation of possibly bad things, which isn't taken into account with the lexicon approach (\"I won't shut up\", \"I won't sit down\").\n",
    " \n",
    "On the negative side, \"Love, Ire, and Song\" is a song about growing up, getting let down, and being disappointed at how the world turned out to be; yet it does end positively, and listening to it fully, it could be considered a slightly optimistic song (brilliant song, IMO). Since the majority of the song is negative, then it has an overall negative rating. There are many negative words like \"disgust\", \"disappointment\", \"defeat\", \"killed\", \"idiot\", \"sinking\", \"pain\", and the list goes on, are all included. There are swears as well. This reminds me of the \"thwarted expectations\" example given in this week's presentation, except as opposite. \n",
    "\n",
    "Overall, these songs didn't seem to range too high positively or too low negative overall. This makes sense to me, as his songs tend to be more from a realist type of perspective, that while most may be negative to some degree, there is some optimism taken out in the end.\n",
    "   \n",
    "\n",
    "---\n",
    "\n",
    "### Q: For your second artist, what are the three songs that have the highest and lowest sentiments? Print the lyrics of those songs to the screen. What do you think is driving the sentiment score? \n",
    "\n",
    "\n",
    "(Code and printed lyrics are above)\n",
    "\n",
    "A: Tom Petty:\n",
    "    \n",
    "   3 highest: \"I Need To Know\", \"Rockin Around with You\", and \"Baby's a Rock and Roller\"\n",
    "   3 lowest: \"Restless\", Fooled Again\", and \"hurt\"\n",
    "   \n",
    "Tom's lyrics are much more rock and rolly, and more simple than Frank's. There are a lot of repeated words -- all these songs utilize the song name in the chorus. The positive song titles seem to be a bit more positive, while negative are more negative, so that usage must be driving the score a bit. \n",
    "\n",
    "\"I need to know\", though, is perhaps a more negative song in the end, as it's about someone possibly leaving a relationship. The rest of the positive songs do seem like positive songs, with a lot of use of the word \"babe\" or \"baby\". Still their overall scores are in the negative.\n",
    "\n",
    "The low songs all make sense, at least in terms of how the lexicon works. \"fooled again\" uses the word \"Fool\" a lot, although the verses are a bit sarcastic (seem positive, but are negative), but since this doesn't take context into situation, as there is a lot of negation. \"Hurt\" uses the word \"Hurt\" a lot, as mentioned; aside from these song titles, it's hard to see other words that are strongly positive or negative.\n",
    "\n",
    "---\n",
    "\n",
    "### Q: Plot the distributions of the sentiment scores for both artists. You can use `seaborn` to plot densities or plot histograms in matplotlib.\n",
    "\n",
    "Below are the distributions; both for the raw sentiment score, and for scaled\n"
   ]
  },
  {
   "cell_type": "code",
   "execution_count": 222,
   "id": "900336ff",
   "metadata": {},
   "outputs": [
    {
     "data": {
      "text/plain": [
       "<seaborn.axisgrid.FacetGrid at 0x1d47bab6370>"
      ]
     },
     "execution_count": 222,
     "metadata": {},
     "output_type": "execute_result"
    },
    {
     "data": {
      "image/png": "[encoded data removed]",
      "text/plain": [
       "<Figure size 452.875x360 with 1 Axes>"
      ]
     },
     "metadata": {
      "needs_background": "light"
     },
     "output_type": "display_data"
    }
   ],
   "source": [
    "# plotting with raw sentiment score\n",
    "\n",
    "sns.displot(lyrics_df, x = \"sentiment_score\", hue = \"artist\")"
   ]
  },
  {
   "cell_type": "code",
   "execution_count": 224,
   "id": "2307b927",
   "metadata": {},
   "outputs": [
    {
     "data": {
      "text/plain": [
       "<seaborn.axisgrid.FacetGrid at 0x1d47a59ab50>"
      ]
     },
     "execution_count": 224,
     "metadata": {},
     "output_type": "execute_result"
    },
    {
     "data": {
      "image/png": "[encoded data removed]",
      "text/plain": [
       "<Figure size 452.875x360 with 1 Axes>"
      ]
     },
     "metadata": {
      "needs_background": "light"
     },
     "output_type": "display_data"
    }
   ],
   "source": [
    "# plotting with scaled sentiment score\n",
    "\n",
    "sns.displot(lyrics_df, x = \"sentiment_score_scaled\", hue = \"artist\")"
   ]
  },
  {
   "cell_type": "markdown",
   "id": "b3fe644d",
   "metadata": {},
   "source": [
    "## Sentiment Analysis on Twitter Descriptions\n",
    "\n",
    "In this section, define two sets of emojis you designate as positive and negative. Make sure to have at least 10 emojis per set. You can learn about the most popular emojis on Twitter at [the emojitracker](https://emojitracker.com/). \n",
    "\n",
    "Associate your positive emojis with a score of +1, negative with -1. Score the average sentiment of your two artists based on the Twitter descriptions of their followers. The average sentiment can just be the total score divided by number of followers. You do not need to calculate sentiment on non-emoji content for this section."
   ]
  },
  {
   "cell_type": "code",
   "execution_count": 279,
   "id": "43fb1430",
   "metadata": {},
   "outputs": [],
   "source": [
    "import random\n",
    "\n",
    "pos_emojis = [\"joy\", \"heart\", \"heart_eyes\", \"blush\", \"kissing_heart\", \"fire\", \"relaxed\",\n",
    "             \"+1\", \"sparkles\", \"sunglasses\", \"purple_heart\", \"blue_heart\"]\n",
    "\n",
    "neg_emojis = [\"pensive\", \"unamused\", \"weary\", \"broken_heart\", \"cry\", \"disappointed\",\n",
    "              \"expressionless\", \"confused\", \"rage\", \"grimacing\", \"angry\", \"confounded\"]\n",
    "\n",
    "pos_emoji = []\n",
    "neg_emoji = []\n",
    "\n",
    "size = len(pos_emojis)\n",
    "\n",
    "def getEmoji():\n",
    "    sizeOfEmoji = random.randrange(12) + 4\n",
    "    emojiToAns = ''\n",
    "    for x in range(sizeOfEmoji):\n",
    "        full_emoji = ':' + pos_emojis[random.randrange(size)] + ':'\n",
    "        emoji_to_add = emoji.emojize(full_emoji, use_aliases = True)\n",
    "        emojiToAns += emoji_to_add\n",
    "    return emojiToAns\n"
   ]
  },
  {
   "cell_type": "code",
   "execution_count": 301,
   "id": "15263a29",
   "metadata": {},
   "outputs": [],
   "source": [
    "pos_emoj = [\"joy\", \"heart\", \"heart_eyes\", \"blush\", \"kissing_heart\", \"fire\", \"relaxed\",\n",
    "             \"+1\", \"sparkles\", \"sunglasses\", \"purple_heart\", \"blue_heart\"]\n",
    "\n",
    "neg_emoj = [\"pensive\", \"unamused\", \"weary\", \"broken_heart\", \"cry\", \"disappointed\",\n",
    "              \"expressionless\", \"confused\", \"rage\", \"grimacing\", \"angry\", \"confounded\"]\n",
    "\n",
    "pos_emoji = []\n",
    "neg_emoji = []\n",
    "\n",
    "for i in pos_emojis:\n",
    "    emo = ':' + i + ':'\n",
    "    emo = emoji.emojize(emo)\n",
    "    pos_emoji.append(emo)"
   ]
  },
  {
   "cell_type": "code",
   "execution_count": 316,
   "id": "eced04b5",
   "metadata": {},
   "outputs": [],
   "source": [
    "# creating sets of positive and negative emojis\n",
    "# 12 emojis each set\n",
    "# using ones that don't seem neutral, or could be used both ways\n",
    "\n",
    "import emoji\n",
    "\n",
    "pos_emojis = [emoji.emojize(':joy:'), # laughing, crying face\n",
    "              emoji.emojize(':heart:'), # heart\n",
    "              emoji.emojize(':heart_eyes:'), # heart-eyes\n",
    "              emoji.emojize(':blush:'), # smiling, blushing face\n",
    "              emoji.emojize(':kissing_heart:'), # kissing face\n",
    "              emoji.emojize(':fire:'), # fire emoji\n",
    "              emoji.emojize(':relaxed:'), # another smiling, blushing , relaxed face\n",
    "              emoji.emojize(':+1:'), # thumbs up emoji\n",
    "              emoji.emojize(':sparkles:'), # four stars/sparkles\n",
    "              emoji.emojize(':sunglasses:'), #smiling face with sunglasses\n",
    "              emoji.emojize(':purple_heart:'), # purple heart\n",
    "              emoji.emojize(':blue_heart:')] # blue heart\n",
    "\n",
    "\n",
    "neg_emojis = [emoji.emojize(':pensive:'), # pensive, remorseful face\n",
    "             emoji.emojize(':unamused:'),\n",
    "             emoji.emojize(':weary:'),\n",
    "             emoji.emojize(':broken_heart:'),\n",
    "              emoji.emojize(':cry:'),\n",
    "              emoji.emojize(':disappointed:'),\n",
    "              emoji.emojize(':expressionless:'),\n",
    "              emoji.emojize(':confused:'),\n",
    "              emoji.emojize(':rage:'), # red, angry face\n",
    "              emoji.emojize(':grimacing:'),\n",
    "              emoji.emojize(':angry:'),\n",
    "              emoji.emojize(':confounded:')]\n",
    "              \n",
    "            "
   ]
  },
  {
   "cell_type": "code",
   "execution_count": 319,
   "id": "1a5c1d25",
   "metadata": {},
   "outputs": [],
   "source": [
    "# utilizing similar code used in last question\n",
    "\n",
    "pos_score = 1\n",
    "neg_score = -1\n",
    "emoji_dict = {}\n",
    "\n",
    "\n",
    "for emo in pos_emojis:\n",
    "    emoji_dict[emo] = pos_score\n",
    "\n",
    "for emo in neg_emojis:\n",
    "    emoji_dict[emo] = neg_score"
   ]
  },
  {
   "cell_type": "code",
   "execution_count": 320,
   "id": "cb73b94c",
   "metadata": {},
   "outputs": [],
   "source": [
    "# creating a function to extract emojis\n",
    "\n",
    "def extract_emojis(s):\n",
    "    return ''.join(c for c in s if c in emoji.UNICODE_EMOJI['en'])"
   ]
  },
  {
   "cell_type": "code",
   "execution_count": 321,
   "id": "2db9b740",
   "metadata": {},
   "outputs": [],
   "source": [
    "# creating field with just emojis\n",
    "\n",
    "descr_emojis = []\n",
    "\n",
    "for i in tweet_df['description']:\n",
    "    descr_emo = extract_emojis(i)\n",
    "    descr_emojis.append(descr_emo)\n",
    "\n"
   ]
  },
  {
   "cell_type": "code",
   "execution_count": 346,
   "id": "7e0b673d",
   "metadata": {},
   "outputs": [],
   "source": [
    "# adding emojis to tweet_df\n",
    "\n",
    "tweet_df['emojis'] = descr_emojis"
   ]
  },
  {
   "cell_type": "code",
   "execution_count": 331,
   "id": "bd1dbcca",
   "metadata": {},
   "outputs": [],
   "source": [
    "# creating function for sentiment score\n",
    "\n",
    "def emoji_score(emojis):\n",
    "    e_score = 0\n",
    "    bag = [x for x in emojis]\n",
    "    for e in bag:\n",
    "        if e in emoji_dict:\n",
    "            e_score += emoji_dict[e]\n",
    "    return e_score"
   ]
  },
  {
   "cell_type": "code",
   "execution_count": 347,
   "id": "ed89434f",
   "metadata": {},
   "outputs": [],
   "source": [
    "tweet_df['emoji_score'] = tweet_df['emojis'].apply(emoji_score)"
   ]
  },
  {
   "cell_type": "code",
   "execution_count": 348,
   "id": "91c8cd9d",
   "metadata": {},
   "outputs": [],
   "source": [
    "# getting DF of only descriptions with at least one emojis\n",
    "# perhaps, could do this earlier to have faster run time\n",
    "\n",
    "tweet_df_emojis = tweet_df[tweet_df['emojis'] != '']"
   ]
  },
  {
   "cell_type": "code",
   "execution_count": 349,
   "id": "24173e6f",
   "metadata": {},
   "outputs": [
    {
     "data": {
      "text/html": [
       "<div>\n",
       "<style scoped>\n",
       "    .dataframe tbody tr th:only-of-type {\n",
       "        vertical-align: middle;\n",
       "    }\n",
       "\n",
       "    .dataframe tbody tr th {\n",
       "        vertical-align: top;\n",
       "    }\n",
       "\n",
       "    .dataframe thead th {\n",
       "        text-align: right;\n",
       "    }\n",
       "</style>\n",
       "<table border=\"1\" class=\"dataframe\">\n",
       "  <thead>\n",
       "    <tr style=\"text-align: right;\">\n",
       "      <th></th>\n",
       "      <th>artist</th>\n",
       "      <th>description</th>\n",
       "      <th>emojis</th>\n",
       "      <th>emoji_score</th>\n",
       "    </tr>\n",
       "  </thead>\n",
       "  <tbody>\n",
       "    <tr>\n",
       "      <th>3</th>\n",
       "      <td>cher</td>\n",
       "      <td>163㎝／愛かっぷ💜26歳🍒 工〇好きな女の子💓 フォローしてくれたらDMします🧡</td>\n",
       "      <td>💜🍒💓🧡</td>\n",
       "      <td>1</td>\n",
       "    </tr>\n",
       "    <tr>\n",
       "      <th>11</th>\n",
       "      <td>cher</td>\n",
       "      <td>do what thou wilt. 🖤✨</td>\n",
       "      <td>🖤✨</td>\n",
       "      <td>1</td>\n",
       "    </tr>\n",
       "    <tr>\n",
       "      <th>23</th>\n",
       "      <td>cher</td>\n",
       "      <td>Ubuntu to Mudita 🧩 INFP🌻</td>\n",
       "      <td>🧩🌻</td>\n",
       "      <td>0</td>\n",
       "    </tr>\n",
       "    <tr>\n",
       "      <th>26</th>\n",
       "      <td>cher</td>\n",
       "      <td>Romanos 8:31 ✝️</td>\n",
       "      <td>✝</td>\n",
       "      <td>0</td>\n",
       "    </tr>\n",
       "    <tr>\n",
       "      <th>32</th>\n",
       "      <td>cher</td>\n",
       "      <td>Just some guy 🙃</td>\n",
       "      <td>🙃</td>\n",
       "      <td>0</td>\n",
       "    </tr>\n",
       "  </tbody>\n",
       "</table>\n",
       "</div>"
      ],
      "text/plain": [
       "   artist                                description emojis  emoji_score\n",
       "3    cher  163㎝／愛かっぷ💜26歳🍒 工〇好きな女の子💓 フォローしてくれたらDMします🧡   💜🍒💓🧡            1\n",
       "11   cher                      do what thou wilt. 🖤✨     🖤✨            1\n",
       "23   cher                   Ubuntu to Mudita 🧩 INFP🌻     🧩🌻            0\n",
       "26   cher                            Romanos 8:31 ✝️      ✝            0\n",
       "32   cher                            Just some guy 🙃      🙃            0"
      ]
     },
     "execution_count": 349,
     "metadata": {},
     "output_type": "execute_result"
    }
   ],
   "source": [
    "tweet_df_emojis.head()"
   ]
  },
  {
   "cell_type": "code",
   "execution_count": 350,
   "id": "24637875",
   "metadata": {},
   "outputs": [
    {
     "data": {
      "text/html": [
       "<div>\n",
       "<style scoped>\n",
       "    .dataframe tbody tr th:only-of-type {\n",
       "        vertical-align: middle;\n",
       "    }\n",
       "\n",
       "    .dataframe tbody tr th {\n",
       "        vertical-align: top;\n",
       "    }\n",
       "\n",
       "    .dataframe thead th {\n",
       "        text-align: right;\n",
       "    }\n",
       "</style>\n",
       "<table border=\"1\" class=\"dataframe\">\n",
       "  <thead>\n",
       "    <tr style=\"text-align: right;\">\n",
       "      <th></th>\n",
       "      <th>emoji_score</th>\n",
       "    </tr>\n",
       "    <tr>\n",
       "      <th>artist</th>\n",
       "      <th></th>\n",
       "    </tr>\n",
       "  </thead>\n",
       "  <tbody>\n",
       "    <tr>\n",
       "      <th>cher</th>\n",
       "      <td>0.190393</td>\n",
       "    </tr>\n",
       "    <tr>\n",
       "      <th>robynkonichiwa</th>\n",
       "      <td>0.153527</td>\n",
       "    </tr>\n",
       "  </tbody>\n",
       "</table>\n",
       "</div>"
      ],
      "text/plain": [
       "                emoji_score\n",
       "artist                     \n",
       "cher               0.190393\n",
       "robynkonichiwa     0.153527"
      ]
     },
     "execution_count": 350,
     "metadata": {},
     "output_type": "execute_result"
    }
   ],
   "source": [
    "# finding average sentiment of each artist\n",
    "\n",
    "# only for descriptions with at least one emoji\n",
    "\n",
    "tweet_df_emojis.groupby('artist').agg({'emoji_score': 'mean'})"
   ]
  },
  {
   "cell_type": "code",
   "execution_count": 351,
   "id": "db65122c",
   "metadata": {},
   "outputs": [
    {
     "data": {
      "text/html": [
       "<div>\n",
       "<style scoped>\n",
       "    .dataframe tbody tr th:only-of-type {\n",
       "        vertical-align: middle;\n",
       "    }\n",
       "\n",
       "    .dataframe tbody tr th {\n",
       "        vertical-align: top;\n",
       "    }\n",
       "\n",
       "    .dataframe thead th {\n",
       "        text-align: right;\n",
       "    }\n",
       "</style>\n",
       "<table border=\"1\" class=\"dataframe\">\n",
       "  <thead>\n",
       "    <tr style=\"text-align: right;\">\n",
       "      <th></th>\n",
       "      <th>emoji_score</th>\n",
       "    </tr>\n",
       "    <tr>\n",
       "      <th>artist</th>\n",
       "      <th></th>\n",
       "    </tr>\n",
       "  </thead>\n",
       "  <tbody>\n",
       "    <tr>\n",
       "      <th>cher</th>\n",
       "      <td>0.017993</td>\n",
       "    </tr>\n",
       "    <tr>\n",
       "      <th>robynkonichiwa</th>\n",
       "      <td>0.011552</td>\n",
       "    </tr>\n",
       "  </tbody>\n",
       "</table>\n",
       "</div>"
      ],
      "text/plain": [
       "                emoji_score\n",
       "artist                     \n",
       "cher               0.017993\n",
       "robynkonichiwa     0.011552"
      ]
     },
     "execution_count": 351,
     "metadata": {},
     "output_type": "execute_result"
    }
   ],
   "source": [
    "# average sentiment for all descriptions, even if no emojis\n",
    "\n",
    "tweet_df.groupby('artist').agg({'emoji_score': 'mean'})"
   ]
  },
  {
   "cell_type": "markdown",
   "id": "fb92eb93",
   "metadata": {},
   "source": [
    "### Q: What is the average sentiment of your two artists? \n",
    "\n",
    "(Code right above this)\n",
    "\n",
    "A: Cher has a slightly higher sentiment of for her followers' descriptions and emoji usage. Even looking at all descriptions, including those without emojis, Cher's is still slightly hgher.\n",
    "\n",
    "---\n",
    "\n",
    "### Q: Which positive emoji is the most popular for each artist? Which negative emoji? \n",
    "\n",
    "(Code right below this)\n",
    "\n",
    "A: The most popular positive emoji for cher is the \"sparkle\" emoji. The most popular negative for her is the broken heart emoji. Robyn's most popular negative is also the broken heart emoji, but the most popular positive for Robyn is the fire emoji.\n",
    "\n",
    "\n"
   ]
  },
  {
   "cell_type": "code",
   "execution_count": 371,
   "id": "0a917d1b",
   "metadata": {},
   "outputs": [],
   "source": [
    "def most_pos_emoji(emojis):\n",
    "    bag = [x for x in emojis]\n",
    "    for e in bag:\n",
    "        if e in pos_emojis:\n",
    "            count = Counter(e)\n",
    "            \n",
    "    return count.most_common(1)\n",
    "\n",
    "def most_neg_emoji(emojis):\n",
    "    bag = [x for x in emojis]\n",
    "    for e in bag:\n",
    "        if e in neg_emojis:\n",
    "            count = Counter(e)\n",
    "            \n",
    "    return count.most_common(1)"
   ]
  },
  {
   "cell_type": "code",
   "execution_count": 372,
   "id": "496b4244",
   "metadata": {},
   "outputs": [],
   "source": [
    "cher_emojis = tweet_df_emojis[tweet_df_emojis['artist'] == 'cher']['emojis']\n",
    "robyn_emojis = tweet_df_emojis[tweet_df_emojis['artist'] == 'robynkonichiwa']['emojis']\n",
    "\n",
    "cher_most_pos = most_pos_emoji(cher_emojis)\n",
    "cher_most_neg = most_neg_emoji(cher_emojis)\n",
    "\n",
    "robyn_most_pos = most_pos_emoji(robyn_emojis)\n",
    "robyn_most_neg = most_neg_emoji(robyn_emojis)"
   ]
  },
  {
   "cell_type": "code",
   "execution_count": 373,
   "id": "0855e20b",
   "metadata": {},
   "outputs": [
    {
     "name": "stdout",
     "output_type": "stream",
     "text": [
      "Cher's most positive emoji:  [('✨', 1)] Cher's most negative emoji:  [('💔', 1)] Robyn's most positive emoji:  [('🔥', 1)] Robyn's most negative emoji:  [('💔', 1)]\n"
     ]
    }
   ],
   "source": [
    "print(\"Cher's most positive emoji: \", cher_most_pos, \n",
    "      \"Cher's most negative emoji: \", cher_most_neg,\n",
    "      \"Robyn's most positive emoji: \", robyn_most_pos, \n",
    "      \"Robyn's most negative emoji: \", robyn_most_neg)"
   ]
  },
  {
   "cell_type": "code",
   "execution_count": null,
   "id": "0d4eae48",
   "metadata": {},
   "outputs": [],
   "source": []
  }
 ],
 "metadata": {
  "kernelspec": {
   "display_name": "Python 3 (ipykernel)",
   "language": "python",
   "name": "python3"
  },
  "language_info": {
   "codemirror_mode": {
    "name": "ipython",
    "version": 3
   },
   "file_extension": ".py",
   "mimetype": "text/x-python",
   "name": "python",
   "nbconvert_exporter": "python",
   "pygments_lexer": "ipython3",
   "version": "3.9.1"
  }
 },
 "nbformat": 4,
 "nbformat_minor": 5
}
